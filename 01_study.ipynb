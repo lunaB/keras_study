{
  "nbformat": 4,
  "nbformat_minor": 0,
  "metadata": {
    "colab": {
      "name": "01-study.ipynb",
      "provenance": [],
      "collapsed_sections": [],
      "authorship_tag": "ABX9TyPPRbxeSGKMACkKxsmHKmho",
      "include_colab_link": true
    },
    "kernelspec": {
      "name": "python3",
      "display_name": "Python 3"
    }
  },
  "cells": [
    {
      "cell_type": "markdown",
      "metadata": {
        "id": "view-in-github",
        "colab_type": "text"
      },
      "source": [
        "<a href=\"https://colab.research.google.com/github/lunaB/keras_study/blob/master/01_study.ipynb\" target=\"_parent\"><img src=\"https://colab.research.google.com/assets/colab-badge.svg\" alt=\"Open In Colab\"/></a>"
      ]
    },
    {
      "cell_type": "code",
      "metadata": {
        "id": "V078JW-bpvbf",
        "outputId": "686197e3-7576-45fc-94ea-717c9208271a",
        "colab": {
          "base_uri": "https://localhost:8080/",
          "height": 53
        }
      },
      "source": [
        "from keras.datasets import mnist\n",
        "\n",
        "(train_images, train_labels), (test_images, test_labels) = mnist.load_data()"
      ],
      "execution_count": 1,
      "outputs": [
        {
          "output_type": "stream",
          "text": [
            "Downloading data from https://storage.googleapis.com/tensorflow/tf-keras-datasets/mnist.npz\n",
            "11493376/11490434 [==============================] - 0s 0us/step\n"
          ],
          "name": "stdout"
        }
      ]
    },
    {
      "cell_type": "code",
      "metadata": {
        "id": "WU1Wgeo1u1vI",
        "outputId": "fb41e838-e493-46a7-8888-5a555fab4c5d",
        "colab": {
          "base_uri": "https://localhost:8080/",
          "height": 35
        }
      },
      "source": [
        "train_images.shape"
      ],
      "execution_count": 2,
      "outputs": [
        {
          "output_type": "execute_result",
          "data": {
            "text/plain": [
              "(60000, 28, 28)"
            ]
          },
          "metadata": {
            "tags": []
          },
          "execution_count": 2
        }
      ]
    },
    {
      "cell_type": "code",
      "metadata": {
        "id": "U-eK-6Fguwj4",
        "outputId": "b5956327-a494-4bb1-cabf-9b37d077191b",
        "colab": {
          "base_uri": "https://localhost:8080/",
          "height": 35
        }
      },
      "source": [
        "train_labels.shape"
      ],
      "execution_count": 4,
      "outputs": [
        {
          "output_type": "execute_result",
          "data": {
            "text/plain": [
              "(60000,)"
            ]
          },
          "metadata": {
            "tags": []
          },
          "execution_count": 4
        }
      ]
    },
    {
      "cell_type": "code",
      "metadata": {
        "id": "UfubmESku_S-"
      },
      "source": [
        "from keras import models, layers\n",
        "\n",
        "\n",
        "network = models.Sequential()\n",
        "network.add(layers.Dense(512, activation='relu', input_shape=(28*28, )))\n",
        "network.add(layers.Dense(10, activation='softmax'))\n",
        "\n",
        "network.compile(optimizer='rmsprop',\n",
        "                loss='categorical_crossentropy',\n",
        "                metrics=['accuracy'])"
      ],
      "execution_count": 7,
      "outputs": []
    },
    {
      "cell_type": "code",
      "metadata": {
        "id": "P3nvjAaHzLYw"
      },
      "source": [
        "train_images = train_images.reshape((60000, 28*28))\n",
        "train_images = train_images.astype('float32') / 255\n",
        "\n",
        "test_images = test_images.reshape((10000, 28*28))\n",
        "test_images = test_images.astype('float32') / 255"
      ],
      "execution_count": 9,
      "outputs": []
    },
    {
      "cell_type": "code",
      "metadata": {
        "id": "LZYUoExyzbmO"
      },
      "source": [
        "from keras.utils import to_categorical\n",
        "\n",
        "train_labels = to_categorical(train_labels)\n",
        "test_labels = to_categorical(test_labels)"
      ],
      "execution_count": 10,
      "outputs": []
    },
    {
      "cell_type": "code",
      "metadata": {
        "id": "wKO_S3a20kXz",
        "outputId": "bcc0b1af-efea-45b6-ef23-ede0183489e2",
        "colab": {
          "base_uri": "https://localhost:8080/",
          "height": 215
        }
      },
      "source": [
        "network.fit(train_images, train_labels, epochs=5, batch_size=128)"
      ],
      "execution_count": 13,
      "outputs": [
        {
          "output_type": "stream",
          "text": [
            "Epoch 1/5\n",
            "469/469 [==============================] - 7s 16ms/step - loss: 1.4662 - accuracy: 0.6676\n",
            "Epoch 2/5\n",
            "469/469 [==============================] - 5s 11ms/step - loss: 0.5746 - accuracy: 0.8575\n",
            "Epoch 3/5\n",
            "469/469 [==============================] - 4s 9ms/step - loss: 0.4058 - accuracy: 0.8897\n",
            "Epoch 4/5\n",
            "469/469 [==============================] - 4s 9ms/step - loss: 0.3509 - accuracy: 0.9011\n",
            "Epoch 5/5\n",
            "469/469 [==============================] - 4s 9ms/step - loss: 0.3218 - accuracy: 0.9081\n"
          ],
          "name": "stdout"
        },
        {
          "output_type": "execute_result",
          "data": {
            "text/plain": [
              "<tensorflow.python.keras.callbacks.History at 0x7ff95e29b748>"
            ]
          },
          "metadata": {
            "tags": []
          },
          "execution_count": 13
        }
      ]
    },
    {
      "cell_type": "code",
      "metadata": {
        "id": "kvV5Tmqlz-Lt",
        "outputId": "783145c6-f211-40aa-d7db-44f7387fc93f",
        "colab": {
          "base_uri": "https://localhost:8080/",
          "height": 53
        }
      },
      "source": [
        "test_loss, test_acc = network.evaluate(test_images, test_labels)\n",
        "print('test_acc', test_acc)"
      ],
      "execution_count": 14,
      "outputs": [
        {
          "output_type": "stream",
          "text": [
            "313/313 [==============================] - 1s 2ms/step - loss: 50.3477 - accuracy: 0.8264\n",
            "test_acc 0.8263999819755554\n"
          ],
          "name": "stdout"
        }
      ]
    },
    {
      "cell_type": "code",
      "metadata": {
        "id": "aMRMEzls0nEr",
        "outputId": "1412ac13-f9b6-4726-b18d-ffcc099c8b32",
        "colab": {
          "base_uri": "https://localhost:8080/",
          "height": 265
        }
      },
      "source": [
        "import matplotlib.pyplot as plt\n",
        "\n",
        "plt.imshow(train_images.reshape(-1, 28, 28)[0], cmap=plt.cm.binary)\n",
        "plt.show()"
      ],
      "execution_count": 26,
      "outputs": [
        {
          "output_type": "display_data",
          "data": {
            "image/png": "[encoded data removed]",
            "text/plain": [
              "<Figure size 432x288 with 1 Axes>"
            ]
          },
          "metadata": {
            "tags": [],
            "needs_background": "light"
          }
        }
      ]
    },
    {
      "cell_type": "markdown",
      "metadata": {
        "id": "Ok2npV9G6z4B"
      },
      "source": [
        "## 발표에서 제외해도 될 것 같은 부분\n",
        "numpy조작은 인공지능 외적인 것임으로 굳이 들어갈 필요는 없을 것 같습니다.  \n"
      ]
    },
    {
      "cell_type": "markdown",
      "metadata": {
        "id": "xFuEjcPm-H85"
      },
      "source": [
        "## 발표에 들어가면 좋을 것 같은 부분\n",
        "\n",
        "\n",
        "#### 텐서의 실제 사례\n",
        "- 벡터 데이터\n",
        "- 시계열 데이터\n",
        "- 이미지\n",
        "- 동영상\n",
        "\n",
        "#### 텐서연산\n",
        "텐서연산? keras의 내부에서 실제로 연산이 어떻게 이루어지는지 예시를 들어준 것 같은데 나중에 실제로 어떠한 모델을 구현할때 안다면 도움이 될 때가 있을 것 같다고는 생각 합니다. (근데 발표에 넣기는 어려워 보입니다)\n",
        "\n",
        "#### 확률적 경사하강법 ~ 역전파 알고리즘\n",
        "우선 발표를 듣는사람이 거의 이러한 기본 지식이 있으신 분들이니 가볍게 설명해도 될 것 같아요.\n",
        "\n",
        "* 주요키워드\n",
        "    * localminimum에 빠지지 않게 하기위한 optimizer와 momentum\n",
        "    * 경사 하강법 (코드로 경사하강법이 진행되는 것을 보여주는것을 해보면 좋을 것 같습니다)\n",
        "    * 등등\n",
        "    \n",
        "\n"
      ]
    },
    {
      "cell_type": "code",
      "metadata": {
        "id": "C71cmcq9HS6H"
      },
      "source": [
        "# 응용 1 \n",
        "# 최적화 과정 시각화"
      ],
      "execution_count": null,
      "outputs": []
    },
    {
      "cell_type": "code",
      "metadata": {
        "id": "c781FW_aB_P6"
      },
      "source": [
        "import matplotlib.pyplot as plt\n",
        "from keras import models, layers, losses\n",
        "\n",
        "network = models.Sequential()\n",
        "network.add(layers.Dense(1))\n",
        "\n",
        "network.compile(optimizer='SGD', loss='mean_squared_error')"
      ],
      "execution_count": 73,
      "outputs": []
    },
    {
      "cell_type": "code",
      "metadata": {
        "id": "cwZAF9eDDd9p",
        "outputId": "704feffc-b471-46f6-9962-dc608776cc27",
        "colab": {
          "base_uri": "https://localhost:8080/",
          "height": 670
        }
      },
      "source": [
        "x = np.array([[0.8]])\n",
        "y = np.array([[0.2]])\n",
        "\n",
        "for i in range(5):\n",
        "    l = np.linspace(0,1,100)\n",
        "    network.fit(x, y, epochs=20, verbose=0)\n",
        "\n",
        "    plt.subplot(211)\n",
        "    plt.scatter(x, y)\n",
        "    plt.plot(l, network.predict(l))\n",
        "    plt.show()\n"
      ],
      "execution_count": 74,
      "outputs": [
        {
          "output_type": "display_data",
          "data": {
            "image/png": "[encoded data removed]",
            "text/plain": [
              "<Figure size 432x288 with 1 Axes>"
            ]
          },
          "metadata": {
            "tags": [],
            "needs_background": "light"
          }
        },
        {
          "output_type": "display_data",
          "data": {
            "image/png": "[encoded data removed]",
            "text/plain": [
              "<Figure size 432x288 with 1 Axes>"
            ]
          },
          "metadata": {
            "tags": [],
            "needs_background": "light"
          }
        },
        {
          "output_type": "display_data",
          "data": {
            "image/png": "[encoded data removed]",
            "text/plain": [
              "<Figure size 432x288 with 1 Axes>"
            ]
          },
          "metadata": {
            "tags": [],
            "needs_background": "light"
          }
        },
        {
          "output_type": "display_data",
          "data": {
            "image/png": "[encoded data removed]",
            "text/plain": [
              "<Figure size 432x288 with 1 Axes>"
            ]
          },
          "metadata": {
            "tags": [],
            "needs_background": "light"
          }
        },
        {
          "output_type": "display_data",
          "data": {
            "image/png": "[encoded data removed]",
            "text/plain": [
              "<Figure size 432x288 with 1 Axes>"
            ]
          },
          "metadata": {
            "tags": [],
            "needs_background": "light"
          }
        }
      ]
    },
    {
      "cell_type": "code",
      "metadata": {
        "id": "PmgPnYIPNp7g"
      },
      "source": [
        ""
      ],
      "execution_count": null,
      "outputs": []
    }
  ]
}